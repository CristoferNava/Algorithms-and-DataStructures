{
 "cells": [
  {
   "cell_type": "markdown",
   "metadata": {},
   "source": [
    "# Insertion Sort\n",
    "### Solves the sorting problem\n",
    "* Revisar formato"
   ]
  },
  {
   "cell_type": "markdown",
   "metadata": {},
   "source": [
    "**input**: A sequence of *n* numbers $\\langle a_{1}, a_{2}, ..., a_{n} \\rangle$\n",
    "<br>\n",
    "**output**: A permutation (reordering) $\\langle a'_{1}, a'_{2}, ..., a'_{n} \\rangle$ of the input sequence such that $a'_{1} \\leq a'_{2} \\leq ... \\leq a'_{n}$."
   ]
  },
  {
   "cell_type": "markdown",
   "metadata": {},
   "source": [
    "**keys**: Numbers that we wish to sort."
   ]
  },
  {
   "cell_type": "code",
   "execution_count": 11,
   "metadata": {},
   "outputs": [],
   "source": [
    "def insertion_sort(numbers):\n",
    "    for j in range(1, len(numbers)):\n",
    "        key = numbers[j]\n",
    "        i = j - 1 \n",
    "        while i >= 0 and numbers[i] > key:\n",
    "            numbers[i + 1] = numbers[i]\n",
    "            i = i - 1\n",
    "        numbers[i + 1] = key\n",
    "    return numbers"
   ]
  },
  {
   "cell_type": "code",
   "execution_count": 15,
   "metadata": {},
   "outputs": [
    {
     "data": {
      "text/plain": [
       "[1, 2]"
      ]
     },
     "execution_count": 15,
     "metadata": {},
     "output_type": "execute_result"
    }
   ],
   "source": [
    "insertion_sort([2, 1])"
   ]
  },
  {
   "cell_type": "code",
   "execution_count": null,
   "metadata": {},
   "outputs": [],
   "source": []
  }
 ],
 "metadata": {
  "kernelspec": {
   "display_name": "Python 3",
   "language": "python",
   "name": "python3"
  },
  "language_info": {
   "codemirror_mode": {
    "name": "ipython",
    "version": 3
   },
   "file_extension": ".py",
   "mimetype": "text/x-python",
   "name": "python",
   "nbconvert_exporter": "python",
   "pygments_lexer": "ipython3",
   "version": "3.7.0"
  }
 },
 "nbformat": 4,
 "nbformat_minor": 2
}
